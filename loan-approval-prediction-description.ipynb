{
 "cells": [
  {
   "cell_type": "code",
   "execution_count": 1,
   "id": "4ab3db32",
   "metadata": {
    "_cell_guid": "b1076dfc-b9ad-4769-8c92-a6c4dae69d19",
    "_uuid": "8f2839f25d086af736a60e9eeb907d3b93b6e0e5",
    "execution": {
     "iopub.execute_input": "2025-09-05T11:15:36.169449Z",
     "iopub.status.busy": "2025-09-05T11:15:36.168546Z",
     "iopub.status.idle": "2025-09-05T11:15:38.059301Z",
     "shell.execute_reply": "2025-09-05T11:15:38.058142Z"
    },
    "papermill": {
     "duration": 1.897352,
     "end_time": "2025-09-05T11:15:38.060850",
     "exception": false,
     "start_time": "2025-09-05T11:15:36.163498",
     "status": "completed"
    },
    "tags": []
   },
   "outputs": [
    {
     "name": "stdout",
     "output_type": "stream",
     "text": [
      "/kaggle/input/loan-approval-prediction-dataset/loan_approval_dataset.csv\n"
     ]
    }
   ],
   "source": [
    "# This Python 3 environment comes with many helpful analytics libraries installed\n",
    "# It is defined by the kaggle/python Docker image: https://github.com/kaggle/docker-python\n",
    "# For example, here's several helpful packages to load\n",
    "\n",
    "import numpy as np # linear algebra\n",
    "import pandas as pd # data processing, CSV file I/O (e.g. pd.read_csv)\n",
    "\n",
    "# Input data files are available in the read-only \"../input/\" directory\n",
    "# For example, running this (by clicking run or pressing Shift+Enter) will list all files under the input directory\n",
    "\n",
    "import os\n",
    "for dirname, _, filenames in os.walk('/kaggle/input'):\n",
    "    for filename in filenames:\n",
    "        print(os.path.join(dirname, filename))\n",
    "\n",
    "# You can write up to 20GB to the current directory (/kaggle/working/) that gets preserved as output when you create a version using \"Save & Run All\" \n",
    "# You can also write temporary files to /kaggle/temp/, but they won't be saved outside of the current session"
   ]
  },
  {
   "cell_type": "code",
   "execution_count": 2,
   "id": "97a61b8d",
   "metadata": {
    "execution": {
     "iopub.execute_input": "2025-09-05T11:15:38.068632Z",
     "iopub.status.busy": "2025-09-05T11:15:38.068110Z",
     "iopub.status.idle": "2025-09-05T11:15:40.319222Z",
     "shell.execute_reply": "2025-09-05T11:15:40.318425Z"
    },
    "papermill": {
     "duration": 2.256566,
     "end_time": "2025-09-05T11:15:40.320929",
     "exception": false,
     "start_time": "2025-09-05T11:15:38.064363",
     "status": "completed"
    },
    "tags": []
   },
   "outputs": [],
   "source": [
    "import pandas as pd\n",
    "from sklearn.model_selection import train_test_split\n",
    "from sklearn.preprocessing import LabelEncoder\n",
    "from sklearn.linear_model import LogisticRegression\n",
    "from sklearn.metrics import accuracy_score, precision_score, recall_score, f1_score, confusion_matrix\n",
    "import seaborn as sns\n",
    "import matplotlib.pyplot as plt"
   ]
  },
  {
   "cell_type": "code",
   "execution_count": 3,
   "id": "dee3278c",
   "metadata": {
    "execution": {
     "iopub.execute_input": "2025-09-05T11:15:40.328559Z",
     "iopub.status.busy": "2025-09-05T11:15:40.328083Z",
     "iopub.status.idle": "2025-09-05T11:15:40.360209Z",
     "shell.execute_reply": "2025-09-05T11:15:40.359418Z"
    },
    "papermill": {
     "duration": 0.037685,
     "end_time": "2025-09-05T11:15:40.361880",
     "exception": false,
     "start_time": "2025-09-05T11:15:40.324195",
     "status": "completed"
    },
    "tags": []
   },
   "outputs": [],
   "source": [
    "df = pd.read_csv(\"/kaggle/input/loan-approval-prediction-dataset/loan_approval_dataset.csv\") "
   ]
  },
  {
   "cell_type": "code",
   "execution_count": 4,
   "id": "e76b4808",
   "metadata": {
    "execution": {
     "iopub.execute_input": "2025-09-05T11:15:40.369436Z",
     "iopub.status.busy": "2025-09-05T11:15:40.369073Z",
     "iopub.status.idle": "2025-09-05T11:15:40.383964Z",
     "shell.execute_reply": "2025-09-05T11:15:40.382963Z"
    },
    "papermill": {
     "duration": 0.020365,
     "end_time": "2025-09-05T11:15:40.385525",
     "exception": false,
     "start_time": "2025-09-05T11:15:40.365160",
     "status": "completed"
    },
    "tags": []
   },
   "outputs": [
    {
     "name": "stdout",
     "output_type": "stream",
     "text": [
      "   loan_id   no_of_dependents      education  self_employed   income_annum  \\\n",
      "0        1                  2       Graduate             No        9600000   \n",
      "1        2                  0   Not Graduate            Yes        4100000   \n",
      "2        3                  3       Graduate             No        9100000   \n",
      "3        4                  3       Graduate             No        8200000   \n",
      "4        5                  5   Not Graduate            Yes        9800000   \n",
      "\n",
      "    loan_amount   loan_term   cibil_score   residential_assets_value  \\\n",
      "0      29900000          12           778                    2400000   \n",
      "1      12200000           8           417                    2700000   \n",
      "2      29700000          20           506                    7100000   \n",
      "3      30700000           8           467                   18200000   \n",
      "4      24200000          20           382                   12400000   \n",
      "\n",
      "    commercial_assets_value   luxury_assets_value   bank_asset_value  \\\n",
      "0                  17600000              22700000            8000000   \n",
      "1                   2200000               8800000            3300000   \n",
      "2                   4500000              33300000           12800000   \n",
      "3                   3300000              23300000            7900000   \n",
      "4                   8200000              29400000            5000000   \n",
      "\n",
      "   loan_status  \n",
      "0     Approved  \n",
      "1     Rejected  \n",
      "2     Rejected  \n",
      "3     Rejected  \n",
      "4     Rejected  \n"
     ]
    }
   ],
   "source": [
    "print(df.head())"
   ]
  },
  {
   "cell_type": "code",
   "execution_count": 5,
   "id": "66206118",
   "metadata": {
    "execution": {
     "iopub.execute_input": "2025-09-05T11:15:40.393501Z",
     "iopub.status.busy": "2025-09-05T11:15:40.392714Z",
     "iopub.status.idle": "2025-09-05T11:15:40.417448Z",
     "shell.execute_reply": "2025-09-05T11:15:40.416683Z"
    },
    "papermill": {
     "duration": 0.030387,
     "end_time": "2025-09-05T11:15:40.419079",
     "exception": false,
     "start_time": "2025-09-05T11:15:40.388692",
     "status": "completed"
    },
    "tags": []
   },
   "outputs": [],
   "source": [
    "df.fillna(df.mode().iloc[0], inplace=True)"
   ]
  },
  {
   "cell_type": "code",
   "execution_count": 6,
   "id": "22841b74",
   "metadata": {
    "execution": {
     "iopub.execute_input": "2025-09-05T11:15:40.427247Z",
     "iopub.status.busy": "2025-09-05T11:15:40.426505Z",
     "iopub.status.idle": "2025-09-05T11:15:40.435722Z",
     "shell.execute_reply": "2025-09-05T11:15:40.434989Z"
    },
    "papermill": {
     "duration": 0.01483,
     "end_time": "2025-09-05T11:15:40.437064",
     "exception": false,
     "start_time": "2025-09-05T11:15:40.422234",
     "status": "completed"
    },
    "tags": []
   },
   "outputs": [],
   "source": [
    "le = LabelEncoder()\n",
    "for col in df.select_dtypes(include=[\"object\"]).columns:\n",
    "    df[col] = le.fit_transform(df[col])"
   ]
  },
  {
   "cell_type": "code",
   "execution_count": 7,
   "id": "e4aaca03",
   "metadata": {
    "execution": {
     "iopub.execute_input": "2025-09-05T11:15:40.444480Z",
     "iopub.status.busy": "2025-09-05T11:15:40.444164Z",
     "iopub.status.idle": "2025-09-05T11:15:40.450568Z",
     "shell.execute_reply": "2025-09-05T11:15:40.449607Z"
    },
    "papermill": {
     "duration": 0.011628,
     "end_time": "2025-09-05T11:15:40.451929",
     "exception": false,
     "start_time": "2025-09-05T11:15:40.440301",
     "status": "completed"
    },
    "tags": []
   },
   "outputs": [
    {
     "name": "stdout",
     "output_type": "stream",
     "text": [
      "loan_id                      0\n",
      " no_of_dependents            0\n",
      " education                   0\n",
      " self_employed               0\n",
      " income_annum                0\n",
      " loan_amount                 0\n",
      " loan_term                   0\n",
      " cibil_score                 0\n",
      " residential_assets_value    0\n",
      " commercial_assets_value     0\n",
      " luxury_assets_value         0\n",
      " bank_asset_value            0\n",
      " loan_status                 0\n",
      "dtype: int64\n"
     ]
    }
   ],
   "source": [
    "print(df.isnull().sum())"
   ]
  },
  {
   "cell_type": "code",
   "execution_count": 8,
   "id": "dcaadde4",
   "metadata": {
    "execution": {
     "iopub.execute_input": "2025-09-05T11:15:40.459956Z",
     "iopub.status.busy": "2025-09-05T11:15:40.459306Z",
     "iopub.status.idle": "2025-09-05T11:15:40.467241Z",
     "shell.execute_reply": "2025-09-05T11:15:40.466532Z"
    },
    "papermill": {
     "duration": 0.013485,
     "end_time": "2025-09-05T11:15:40.468637",
     "exception": false,
     "start_time": "2025-09-05T11:15:40.455152",
     "status": "completed"
    },
    "tags": []
   },
   "outputs": [],
   "source": [
    "X = df.drop(\" loan_status\", axis=1)\n",
    "y = df[\" loan_status\"]"
   ]
  },
  {
   "cell_type": "code",
   "execution_count": 9,
   "id": "b750c881",
   "metadata": {
    "execution": {
     "iopub.execute_input": "2025-09-05T11:15:40.476067Z",
     "iopub.status.busy": "2025-09-05T11:15:40.475764Z",
     "iopub.status.idle": "2025-09-05T11:15:40.483128Z",
     "shell.execute_reply": "2025-09-05T11:15:40.482316Z"
    },
    "papermill": {
     "duration": 0.012756,
     "end_time": "2025-09-05T11:15:40.484645",
     "exception": false,
     "start_time": "2025-09-05T11:15:40.471889",
     "status": "completed"
    },
    "tags": []
   },
   "outputs": [],
   "source": [
    "X_train, X_test, y_train, y_test = train_test_split(X, y, test_size=0.2, random_state=42)"
   ]
  },
  {
   "cell_type": "code",
   "execution_count": 10,
   "id": "64de61dc",
   "metadata": {
    "execution": {
     "iopub.execute_input": "2025-09-05T11:15:40.492114Z",
     "iopub.status.busy": "2025-09-05T11:15:40.491820Z",
     "iopub.status.idle": "2025-09-05T11:15:40.858955Z",
     "shell.execute_reply": "2025-09-05T11:15:40.858105Z"
    },
    "papermill": {
     "duration": 0.372961,
     "end_time": "2025-09-05T11:15:40.860834",
     "exception": false,
     "start_time": "2025-09-05T11:15:40.487873",
     "status": "completed"
    },
    "tags": []
   },
   "outputs": [
    {
     "data": {
      "text/html": [
       "<style>#sk-container-id-1 {color: black;background-color: white;}#sk-container-id-1 pre{padding: 0;}#sk-container-id-1 div.sk-toggleable {background-color: white;}#sk-container-id-1 label.sk-toggleable__label {cursor: pointer;display: block;width: 100%;margin-bottom: 0;padding: 0.3em;box-sizing: border-box;text-align: center;}#sk-container-id-1 label.sk-toggleable__label-arrow:before {content: \"▸\";float: left;margin-right: 0.25em;color: #696969;}#sk-container-id-1 label.sk-toggleable__label-arrow:hover:before {color: black;}#sk-container-id-1 div.sk-estimator:hover label.sk-toggleable__label-arrow:before {color: black;}#sk-container-id-1 div.sk-toggleable__content {max-height: 0;max-width: 0;overflow: hidden;text-align: left;background-color: #f0f8ff;}#sk-container-id-1 div.sk-toggleable__content pre {margin: 0.2em;color: black;border-radius: 0.25em;background-color: #f0f8ff;}#sk-container-id-1 input.sk-toggleable__control:checked~div.sk-toggleable__content {max-height: 200px;max-width: 100%;overflow: auto;}#sk-container-id-1 input.sk-toggleable__control:checked~label.sk-toggleable__label-arrow:before {content: \"▾\";}#sk-container-id-1 div.sk-estimator input.sk-toggleable__control:checked~label.sk-toggleable__label {background-color: #d4ebff;}#sk-container-id-1 div.sk-label input.sk-toggleable__control:checked~label.sk-toggleable__label {background-color: #d4ebff;}#sk-container-id-1 input.sk-hidden--visually {border: 0;clip: rect(1px 1px 1px 1px);clip: rect(1px, 1px, 1px, 1px);height: 1px;margin: -1px;overflow: hidden;padding: 0;position: absolute;width: 1px;}#sk-container-id-1 div.sk-estimator {font-family: monospace;background-color: #f0f8ff;border: 1px dotted black;border-radius: 0.25em;box-sizing: border-box;margin-bottom: 0.5em;}#sk-container-id-1 div.sk-estimator:hover {background-color: #d4ebff;}#sk-container-id-1 div.sk-parallel-item::after {content: \"\";width: 100%;border-bottom: 1px solid gray;flex-grow: 1;}#sk-container-id-1 div.sk-label:hover label.sk-toggleable__label {background-color: #d4ebff;}#sk-container-id-1 div.sk-serial::before {content: \"\";position: absolute;border-left: 1px solid gray;box-sizing: border-box;top: 0;bottom: 0;left: 50%;z-index: 0;}#sk-container-id-1 div.sk-serial {display: flex;flex-direction: column;align-items: center;background-color: white;padding-right: 0.2em;padding-left: 0.2em;position: relative;}#sk-container-id-1 div.sk-item {position: relative;z-index: 1;}#sk-container-id-1 div.sk-parallel {display: flex;align-items: stretch;justify-content: center;background-color: white;position: relative;}#sk-container-id-1 div.sk-item::before, #sk-container-id-1 div.sk-parallel-item::before {content: \"\";position: absolute;border-left: 1px solid gray;box-sizing: border-box;top: 0;bottom: 0;left: 50%;z-index: -1;}#sk-container-id-1 div.sk-parallel-item {display: flex;flex-direction: column;z-index: 1;position: relative;background-color: white;}#sk-container-id-1 div.sk-parallel-item:first-child::after {align-self: flex-end;width: 50%;}#sk-container-id-1 div.sk-parallel-item:last-child::after {align-self: flex-start;width: 50%;}#sk-container-id-1 div.sk-parallel-item:only-child::after {width: 0;}#sk-container-id-1 div.sk-dashed-wrapped {border: 1px dashed gray;margin: 0 0.4em 0.5em 0.4em;box-sizing: border-box;padding-bottom: 0.4em;background-color: white;}#sk-container-id-1 div.sk-label label {font-family: monospace;font-weight: bold;display: inline-block;line-height: 1.2em;}#sk-container-id-1 div.sk-label-container {text-align: center;}#sk-container-id-1 div.sk-container {/* jupyter's `normalize.less` sets `[hidden] { display: none; }` but bootstrap.min.css set `[hidden] { display: none !important; }` so we also need the `!important` here to be able to override the default hidden behavior on the sphinx rendered scikit-learn.org. See: https://github.com/scikit-learn/scikit-learn/issues/21755 */display: inline-block !important;position: relative;}#sk-container-id-1 div.sk-text-repr-fallback {display: none;}</style><div id=\"sk-container-id-1\" class=\"sk-top-container\"><div class=\"sk-text-repr-fallback\"><pre>LogisticRegression(max_iter=1000)</pre><b>In a Jupyter environment, please rerun this cell to show the HTML representation or trust the notebook. <br />On GitHub, the HTML representation is unable to render, please try loading this page with nbviewer.org.</b></div><div class=\"sk-container\" hidden><div class=\"sk-item\"><div class=\"sk-estimator sk-toggleable\"><input class=\"sk-toggleable__control sk-hidden--visually\" id=\"sk-estimator-id-1\" type=\"checkbox\" checked><label for=\"sk-estimator-id-1\" class=\"sk-toggleable__label sk-toggleable__label-arrow\">LogisticRegression</label><div class=\"sk-toggleable__content\"><pre>LogisticRegression(max_iter=1000)</pre></div></div></div></div></div>"
      ],
      "text/plain": [
       "LogisticRegression(max_iter=1000)"
      ]
     },
     "execution_count": 10,
     "metadata": {},
     "output_type": "execute_result"
    }
   ],
   "source": [
    "model = LogisticRegression(max_iter=1000)\n",
    "model.fit(X_train, y_train)"
   ]
  },
  {
   "cell_type": "code",
   "execution_count": 11,
   "id": "f0a81a4a",
   "metadata": {
    "execution": {
     "iopub.execute_input": "2025-09-05T11:15:40.872990Z",
     "iopub.status.busy": "2025-09-05T11:15:40.872661Z",
     "iopub.status.idle": "2025-09-05T11:15:40.883074Z",
     "shell.execute_reply": "2025-09-05T11:15:40.882309Z"
    },
    "papermill": {
     "duration": 0.018169,
     "end_time": "2025-09-05T11:15:40.884734",
     "exception": false,
     "start_time": "2025-09-05T11:15:40.866565",
     "status": "completed"
    },
    "tags": []
   },
   "outputs": [],
   "source": [
    "y_pred = model.predict(X_test)"
   ]
  },
  {
   "cell_type": "code",
   "execution_count": 12,
   "id": "edefabb4",
   "metadata": {
    "execution": {
     "iopub.execute_input": "2025-09-05T11:15:40.896823Z",
     "iopub.status.busy": "2025-09-05T11:15:40.896012Z",
     "iopub.status.idle": "2025-09-05T11:15:40.912042Z",
     "shell.execute_reply": "2025-09-05T11:15:40.911222Z"
    },
    "papermill": {
     "duration": 0.02391,
     "end_time": "2025-09-05T11:15:40.913904",
     "exception": false,
     "start_time": "2025-09-05T11:15:40.889994",
     "status": "completed"
    },
    "tags": []
   },
   "outputs": [
    {
     "name": "stdout",
     "output_type": "stream",
     "text": [
      "Accuracy: 0.6370023419203747\n",
      "Precision: 0.5666666666666667\n",
      "Recall: 0.1069182389937107\n",
      "F1 Score: 0.1798941798941799\n"
     ]
    }
   ],
   "source": [
    "print(\"Accuracy:\", accuracy_score(y_test, y_pred))\n",
    "print(\"Precision:\", precision_score(y_test, y_pred))\n",
    "print(\"Recall:\", recall_score(y_test, y_pred))\n",
    "print(\"F1 Score:\", f1_score(y_test, y_pred))"
   ]
  },
  {
   "cell_type": "code",
   "execution_count": 13,
   "id": "d229b508",
   "metadata": {
    "execution": {
     "iopub.execute_input": "2025-09-05T11:15:40.926337Z",
     "iopub.status.busy": "2025-09-05T11:15:40.925913Z",
     "iopub.status.idle": "2025-09-05T11:15:41.204344Z",
     "shell.execute_reply": "2025-09-05T11:15:41.203458Z"
    },
    "papermill": {
     "duration": 0.285934,
     "end_time": "2025-09-05T11:15:41.205774",
     "exception": false,
     "start_time": "2025-09-05T11:15:40.919840",
     "status": "completed"
    },
    "tags": []
   },
   "outputs": [
    {
     "data": {
      "image/png": "[encoded data removed]",
      "text/plain": [
       "<Figure size 640x480 with 2 Axes>"
      ]
     },
     "metadata": {},
     "output_type": "display_data"
    }
   ],
   "source": [
    "cm = confusion_matrix(y_test, y_pred)\n",
    "sns.heatmap(cm, annot=True, fmt=\"d\", cmap=\"Blues\")\n",
    "plt.xlabel(\"Predicted\")\n",
    "plt.ylabel(\"Actual\")\n",
    "plt.title(\"Confusion Matrix\")\n",
    "plt.show()"
   ]
  },
  {
   "cell_type": "code",
   "execution_count": null,
   "id": "99d9ef80",
   "metadata": {
    "papermill": {
     "duration": 0.003851,
     "end_time": "2025-09-05T11:15:41.216512",
     "exception": false,
     "start_time": "2025-09-05T11:15:41.212661",
     "status": "completed"
    },
    "tags": []
   },
   "outputs": [],
   "source": []
  }
 ],
 "metadata": {
  "kaggle": {
   "accelerator": "none",
   "dataSources": [
    {
     "datasetId": 3523739,
     "sourceId": 6144787,
     "sourceType": "datasetVersion"
    }
   ],
   "dockerImageVersionId": 31089,
   "isGpuEnabled": false,
   "isInternetEnabled": true,
   "language": "python",
   "sourceType": "notebook"
  },
  "kernelspec": {
   "display_name": "Python 3",
   "language": "python",
   "name": "python3"
  },
  "language_info": {
   "codemirror_mode": {
    "name": "ipython",
    "version": 3
   },
   "file_extension": ".py",
   "mimetype": "text/x-python",
   "name": "python",
   "nbconvert_exporter": "python",
   "pygments_lexer": "ipython3",
   "version": "3.11.13"
  },
  "papermill": {
   "default_parameters": {},
   "duration": 11.289612,
   "end_time": "2025-09-05T11:15:41.940623",
   "environment_variables": {},
   "exception": null,
   "input_path": "__notebook__.ipynb",
   "output_path": "__notebook__.ipynb",
   "parameters": {},
   "start_time": "2025-09-05T11:15:30.651011",
   "version": "2.6.0"
  }
 },
 "nbformat": 4,
 "nbformat_minor": 5
}
